{
 "metadata": {
  "language_info": {
   "codemirror_mode": {
    "name": "ipython",
    "version": 3
   },
   "file_extension": ".py",
   "mimetype": "text/x-python",
   "name": "python",
   "nbconvert_exporter": "python",
   "pygments_lexer": "ipython3",
   "version": "3.9.1"
  },
  "orig_nbformat": 2,
  "kernelspec": {
   "name": "python391jvsc74a57bd0cb420b25547fda99a857a852fc4ef6c9d051c43278915c32b64b662fab4bab10",
   "display_name": "Python 3.9.1 64-bit"
  },
  "metadata": {
   "interpreter": {
    "hash": "cb420b25547fda99a857a852fc4ef6c9d051c43278915c32b64b662fab4bab10"
   }
  }
 },
 "nbformat": 4,
 "nbformat_minor": 2,
 "cells": [
  {
   "cell_type": "code",
   "execution_count": 3,
   "metadata": {},
   "outputs": [],
   "source": [
    "import numpy as np\n",
    "import pandas as pd\n",
    "import tensorflow as tf\n",
    "from keras.utils import np_utils\n",
    "from sklearn.feature_extraction.text import TfidfVectorizer"
   ]
  },
  {
   "cell_type": "code",
   "execution_count": 4,
   "metadata": {},
   "outputs": [],
   "source": [
    "df_train = pd.read_json(\"./data/train_lem.json\")\n",
    "df_val = pd.read_json(\"./data/val_lem.json\")\n",
    "df_test = pd.read_json(\"./data/test_lem.json\")"
   ]
  },
  {
   "cell_type": "code",
   "execution_count": 5,
   "metadata": {},
   "outputs": [],
   "source": [
    "df_train = df_train.sample(frac=1)\n",
    "df_val = df_val.sample(frac=1)\n",
    "df_test = df_test.sample(frac=1)"
   ]
  },
  {
   "cell_type": "code",
   "execution_count": 4,
   "metadata": {},
   "outputs": [],
   "source": [
    "file = open(\"./data/useless_words.txt\")\n",
    "useless_words = list(file.read().split(\" \"))"
   ]
  },
  {
   "cell_type": "code",
   "execution_count": 5,
   "metadata": {},
   "outputs": [],
   "source": [
    "'''Szótár építés'''\n",
    "tfidf = TfidfVectorizer(max_features=5000, stop_words=useless_words, use_idf=True)"
   ]
  },
  {
   "cell_type": "code",
   "execution_count": 11,
   "metadata": {},
   "outputs": [],
   "source": [
    "'''Szövegek átalakítása TF-IDF vektorrá'''\n",
    "x_train = tfidf.fit_transform(df_train[\"text\"]).toarray()\n",
    "y_train = df_train[\"subreddit_id\"].values\n",
    "\n",
    "x_val = tfidf.transform(df_val[\"text\"]).toarray()\n",
    "y_val = df_val[\"subreddit_id\"].values\n",
    "\n",
    "x_test = tfidf.transform(df_test[\"text\"]).toarray()\n",
    "y_test = df_test[\"subreddit_id\"].values"
   ]
  },
  {
   "cell_type": "code",
   "execution_count": 12,
   "metadata": {},
   "outputs": [
    {
     "output_type": "stream",
     "name": "stdout",
     "text": [
      "Model: \"sequential_1\"\n_________________________________________________________________\nLayer (type)                 Output Shape              Param #   \n=================================================================\ndense_3 (Dense)              (None, 256)               1280256   \n_________________________________________________________________\ndropout_1 (Dropout)          (None, 256)               0         \n_________________________________________________________________\ndense_4 (Dense)              (None, 128)               32896     \n_________________________________________________________________\ndense_5 (Dense)              (None, 102)               13158     \n=================================================================\nTotal params: 1,326,310\nTrainable params: 1,326,310\nNon-trainable params: 0\n_________________________________________________________________\n"
     ]
    }
   ],
   "source": [
    "ann_model = tf.keras.Sequential([\n",
    "    tf.keras.layers.Dense(256, input_dim=5000, activation='relu'),\n",
    "    tf.keras.layers.Dropout(0.3),\n",
    "    tf.keras.layers.Dense(128),\n",
    "    tf.keras.layers.Dense(units=102, activation='softmax')\n",
    "]) \n",
    "\n",
    "ann_model.compile(optimizer='adam',\n",
    "              loss=\"sparse_categorical_crossentropy\",\n",
    "              metrics=['accuracy'])\n",
    "\n",
    "ann_model.summary()"
   ]
  },
  {
   "cell_type": "code",
   "execution_count": 13,
   "metadata": {},
   "outputs": [
    {
     "output_type": "stream",
     "name": "stdout",
     "text": [
      "Epoch 1/3\n",
      "1913/1913 [==============================] - 29s 14ms/step - loss: 2.1466 - accuracy: 0.5937 - val_loss: 0.5049 - val_accuracy: 0.8749\n",
      "Epoch 2/3\n",
      "1913/1913 [==============================] - 24s 13ms/step - loss: 0.2997 - accuracy: 0.9257 - val_loss: 0.4918 - val_accuracy: 0.8775\n",
      "Epoch 3/3\n",
      "1913/1913 [==============================] - 26s 14ms/step - loss: 0.1441 - accuracy: 0.9653 - val_loss: 0.5369 - val_accuracy: 0.8736\n"
     ]
    }
   ],
   "source": [
    "h = ann_model.fit(x_train, \n",
    "              y_train,\n",
    "              epochs=3,\n",
    "              batch_size=32,\n",
    "              validation_data=(x_val, y_val))"
   ]
  },
  {
   "cell_type": "code",
   "execution_count": 14,
   "metadata": {},
   "outputs": [
    {
     "output_type": "stream",
     "name": "stdout",
     "text": [
      "638/638 [==============================] - 4s 6ms/step - loss: 0.7519 - accuracy: 0.8397\n",
      "test loss, test acc: [0.7518857717514038, 0.8396568894386292]\n"
     ]
    }
   ],
   "source": [
    "results = ann_model.evaluate(x_test, y_test, batch_size=32)\n",
    "print(\"test loss, test acc:\", results)"
   ]
  },
  {
   "cell_type": "code",
   "execution_count": 17,
   "metadata": {
    "tags": []
   },
   "outputs": [
    {
     "output_type": "stream",
     "name": "stdout",
     "text": [
      "The day I cried out in PPTP pain So I recently started a new job for an IT provider which is a consi ...\nPred:  [93] Real:  92\nBeginner question: how do you keep track of all your sources when writing a thesis? Hi guys<lb><lb>N ...\nPred:  [3] Real:  3\nWhy does Bauer dress certain items as other lines? I've seen a few pro stock skates and sticks that  ...\nPred:  [65] Real:  65\nBaby Leopard Gecko, New to reptiles, I have some questions I just purchased a fancy albino leopard g ...\nPred:  [70] Real:  70\nIs it just me or are Heinz beans actually shit? The sauce is kinda runny and there's like a whole ce ...\nPred:  [] Real:  96\nSonarr no longer copying downloaded files. I run Sonarr on my seedbox, hosted by Seedhost.eu. It was ...\nPred:  [88] Real:  88\nNest thermostat/low battery I’ve had my Nest thermostat installed for over a year, but I recently ha ...\nPred:  [26] Real:  26\nI have a few random questions about the S550s if anyone could help me out. I'm going to be in the ma ...\nPred:  [25] Real:  25\nCan't find fruit and nut medley anymore Was wondering if anyone new about the fruit and nut medley t ...\nPred:  [8] Real:  8\nHow long should I wait? 2nd interview I had a 2nd interview on Monday and was told i’d hear back wed ...\nPred:  [67] Real:  67\n[UK] I'm looking for a gift for my grandmother, she's in the middle stages of dementia and I'm not s ...\nPred:  [15] Real:  15\nCreating Animated Cards with Vials - What Would be a Fair Price? Open-ended question for the communi ...\nPred:  [] Real:  32\nWhat to get brother in law for helping with finance. Me and my partner have just bought a block yay! ...\nPred:  [13] Real:  15\nRetrieve Data of locked phone I just had a customer came in with Samsung Galaxy J3 emerge (SM-J320P) ...\nPred:  [54] Real:  54\n2nd gen IS keyless entry driver side not unlocking I have a weird issue here. <lb><lb>After car wash ...\nPred:  [21] Real:  21\nShould I play SOD 1 again?    I first played SOD on my Xbox 360. I have since upgraded to the Xbox O ...\nPred:  [34] Real:  34\nPHARMAK1NG1, BEST VENDOR I'VE DONE BUSINESS WITH If you're looking for a legit, good priced, and qua ...\nPred:  [37] Real:  37\nCar stolen, insurance wants my cell phone records... why? My car was stolen on April 7th. No witness ...\nPred:  [18] Real:  18\nHand of Fate [HoF] and Twist of Fate [T@F] looking to connect with pilots like you! If you are looki ...\nPred:  [98] Real:  98\nJust found out about continual breath awareness, and its helping me with my daydreams. When doing CB ...\nPred:  [101] Real:  23\nRare/collector wine recommendations ~$100? I'm looking to get a bottle of something that might take  ...\nPred:  [100] Real:  100\n[Help] Something to put around the edges of a steel shield Hey guys, I have a domed steel shield as  ...\nPred:  [53] Real:  53\nDo you think greed island was boring? I been seeing greed island arc get criticised a lot since I jo ...\nPred:  [17] Real:  17\nAll-seeing right eye. After a hard day of training, Annily walks into her cabin. She looks over at h ...\nPred:  [6] Real:  6\n[Other] MCU’s resistance to franchise fatigue... how?? 18 films in and breaking records still! Serio ...\nPred:  [49] Real:  49\n[HELP] Ariel dress doesn't fit.. Hi! So, I recently just received my Ariel dress in the mail and as  ...\nPred:  [53] Real:  53\nWould you fly a Lanceair 360 or Legacy? Been thinking about planes and what the hell, just can’t get ...\nPred:  [34] Real:  60\nMinotaur, check! Maze, check! String, crap. Did anyone bring the string? http://www.mlahanas.de/Gree ...\nPred:  [99] Real:  99\nRemember Today is the last day we all cheer for the same thing.. the return of Big Brother. After to ...\nPred:  [] Real:  5\n[Request] Collector card game collaboration I have an idea for a card collection game for the rap sc ...\nPred:  [43] Real:  43\nPost competition blues I competed yesterday, for the first time, after two years of training. I'm a  ...\nPred:  [48] Real:  48\nTips on telling S/O? Does anybody have any helpful information on how to share their story with thei ...\nPred:  [24] Real:  81\nMen and Women in the HVAC industry what are the pros/cons of entering this profession? I'm consideri ...\nPred:  [16] Real:  16\n[Help] have you ever had your photos stolen on Instagram? I was wondering what's the best course of  ...\nPred:  [53] Real:  53\nLenovo G50 DVD drive problem I recently got a Lenovo G50 computer, but there's the slight problem th ...\nPred:  [93] Real:  93\nAre vinyl/laminate tiles safe to use? I tried asking in r/reptiles but didn't get any real help so f ...\nPred:  [70] Real:  70\nDo you ever feel like you don't really know your own subject? I'm a fairly new adjunct professor. I  ...\nPred:  [29] Real:  29\nSonarr download failing. Request timed out connecting to rtorrent. Testing download client connectio ...\nPred:  [25] Real:  88\nDrone question I recently did a x-pipe install and muffler delete on my 5.0, around 2k to 2.1k revs  ...\nPred:  [] Real:  25\n[Question] Need advice on a classic deck to start me off! I never played growing up but understood b ...\nPred:  [41] Real:  41\nRental company Hi guys,  <lb>I am still struggling to find accommodation in Goteborg, but ran into t ...\nPred:  [91] Real:  91\nWhy do I have to do now? So I started miscarrying in Tuesday. Do I need to go to a gynecologist to g ...\nPred:  [96] Real:  24\nLearning SQL for corporate finance jobs at tech companies like Google/FB/Amazon/etc I'm a corporate  ...\nPred:  [31] Real:  31\nStumped on how to get counts on a joined query.. Hi All, I'm having trouble with a query. I'm fairly ...\nPred:  [31] Real:  31\nWrapping up 1st year at Tuck - AMA! Really appreciate this community and would love to give back. Op ...\nPred:  [22] Real:  22\nDealing with blisters on feet during class Kind of a dumb question, but I ran a triathlon the other  ...\nPred:  [48] Real:  48\nDid anybody experience this during childhood? After my last episode with depression, I started in on ...\nPred:  [56] Real:  56\nSFO to Japan Relatively new to buying with points and looking at optimizing travel. Apologies in adv ...\nPred:  [45] Real:  45\nContinued pain after root canal retreatment On Monday, I had a root canal performed on #31. Once the ...\nPred:  [10] Real:  10\nWhat do you guys think season 2 might hold?? I saw this thing just now that said that Alex doesn't s ...\nPred:  [0] Real:  0\nI am planning to create a sharing script in my network. Any pc can act as a server and all others th ...\nPred:  [93] Real:  46\nJust started the show couple of nights ago I'm very very excited. I feel like there's not an overwhe ...\nPred:  [42] Real:  63\nActive listening questions for Beethoven Sonatas I am starting a summer listening project, listen to ...\nPred:  [52] Real:  52\n[Help] Any advise on making pieces for armor? I was thinking of making a cos of Marth from various F ...\nPred:  [53] Real:  53\nProtective Life Insurance? I found an agent (recommended by someone at work) for a 20 yr term life i ...\nPred:  [18] Real:  18\nShare your whaling stories here! I will start this thread off with my own story : <lb>Once upon a ti ...\nPred:  [98] Real:  98\nHey y'all! My boyfriend is changing his name this summer, and needs some advice/support from people  ...\nPred:  [61] Real:  61\nAm I the only one experiencing Increased hearing sensitivity? I typically take 600mg, and without fa ...\nPred:  [] Real:  57\nMBA + Master's Salary Opinion/Results? Hello, I'm about to finish a Master's degree in business anal ...\nPred:  [22] Real:  22\nLife After Divorce It's always sad when a couple separates. The world goes on, but something's sligh ...\nPred:  [86] Real:  86\nIs this AWS S3 backup script correct? Hi,<lb><lb>I have a script running as a cronjob once per week  ...\nPred:  [46] Real:  46\nThe Loud House subreddit is about to reach 618 members. Let's attack it. They are currently at 616 u ...\nPred:  [86] Real:  63\nExpressway MRA connectivity failover Hi, so I have the following expressway B2B+MRA topology.<lb><lb ...\nPred:  [25] Real:  7\n[Cosplay] Tatsu Yamashiro as Katana Hi guys,<lb><lb>I'm trying to find as much pictures of her costu ...\nPred:  [53] Real:  44\nGame Time Watches - Moving Forward Hello, my name is Nathan and I'm the developer for Game Time watc ...\nPred:  [77] Real:  77\nReviewer Comments Implemented in a Paper (to another Journal)? How do you implement comments from an ...\nPred:  [63] Real:  29\nNoob Question: Is it better to upgrade or to use full award for flight? Apologies for the noob quest ...\nPred:  [45] Real:  45\n? pages tab - decreasing font/area size? [pic inside] Hey guys,<lb><lb>Is there a way to decrease th ...\nPred:  [27] Real:  27\nAny Brits got a Tesla Powerwall? My family and I are moving house soon and I'm trying to convince th ...\nPred:  [30] Real:  96\nWhat is actually the best toothpaste &amp; mouthwash? I’m just curious because I’m skeptical of stud ...\nPred:  [] Real:  10\nEthereum payment I think a service would do well that doesn't require a retailer to have any extra i ...\nPred:  [58] Real:  58\n[advice needed] Northbook esque-in search of A4 dotted notebook with perforations for Arabic I am in ...\nPred:  [75] Real:  75\nCareer progression advice please! Charterholders and those that have their charters pending, I wante ...\nPred:  [22] Real:  13\nThe online CW TV is sooo bad unfortunately Its honestly so sad, i absolutely love this show, but the ...\nPred:  [36] Real:  36\nSQL GUI I am new to the whole programming world (and have since fallen in love with it) and had a qu ...\nPred:  [31] Real:  31\nAnybody have suggestions for a semi portable basket? So I've only been playing for about a year now  ...\nPred:  [55] Real:  55\nBuying a catback I have a 2015 GT and I have a catback in mind but i don't necessarily want to drop  ...\nPred:  [25] Real:  25\nPost all your Pixonic Rants Here There are waaaay too many rants being posted in this sub, and it is ...\nPred:  [98] Real:  98\n[SQL] Rename column heading in results not working Hi all,<lb><lb>I'm still learning SQL as part of  ...\nPred:  [31] Real:  31\nGift for first job! So my boyfriend got his first 'real' (after graduating uni) job. His role is qua ...\nPred:  [] Real:  15\nFacepalm A few years ago, I was a junior systems engineer for a support company here in the UK. <lb> ...\nPred:  [92] Real:  92\nDoes this sound like a wheel bearing? 2002 93 2.0T Hi Guys,<lb><lb>Need help diagnosing an issue im  ...\nPred:  [25] Real:  84\nHow deadly are arrows? What if my enemy has a helmet, but his face is unprotected, and I shoot him i ...\nPred:  [68] Real:  68\n[INTRO] Thrown out - or in? _The doors of the pub open suddenly, [a young person](https://www.reddit ...\nPred:  [40] Real:  40\nFuck You, Lisa Timmonds (Valentine's 2017) Yeah. You read that right, Lisa. Fuck you. Every time we  ...\nPred:  [86] Real:  86\nA question about selling an item on Music Magpie I am planning to sell a couple of items through the ...\nPred:  [] Real:  96\nBook signing I know this is a stupid question and probably belongs in another section (I'm fairly ne ...\nPred:  [] Real:  63\nSchool violating FARs - Please advise on the best way to report them. Using a throwaway - Long story ...\nPred:  [60] Real:  60\nJust unsubbed from TIL It's full of shit, but every once in a while something good used to get throu ...\nPred:  [19] Real:  19\nTheory for Elodin’s Insanity When I first read TNTW and WMF I was always curious as to why Elodin wa ...\nPred:  [20] Real:  20\nAbout the new season of adv. time. Has anyone else noticed that the animation style has changed? It  ...\nPred:  [42] Real:  42\nPostmates in Ventura/Oxnard/out of market cities? So after signing up with postmates in San Diego an ...\nPred:  [79] Real:  79\n[Intro] The Giant Slayer Comes *The door crashes open and falls off the hinges a bit. A bit of snow  ...\nPred:  [40] Real:  40\n1st time home buyer, about to buy in philadelphia. If I want to take advantage of NeighborhoodLIFT d ...\nPred:  [30] Real:  30\nWho would you want to lead your people? Out of all the different leadership styles presented on the  ...\nPred:  [36] Real:  36\nOrdering Snus to Finland / Topsnus alternative I am sick of these black market prices and lack of va ...\nPred:  [33] Real:  33\nWow, so I'm not the only one then. Um hey, wow. I've never actually posted on here before, but seein ...\nPred:  [] Real:  23\nI feel like Avicii was EDM's biggest loss Maybe my mind is blanking, but I feel like Avicii is one o ...\nPred:  [11] Real:  11\nNew Nest Owner, Confused About the Home/Away Assist Feature Hey all,<lb><lb>I just had a Nest thermo ...\nPred:  [26] Real:  26\n[LFA] Bairn the Tiefling Alchemist A character I've been thinking a lot about and will be running so ...\nPred:  [51] Real:  51\n"
     ]
    }
   ],
   "source": [
    "predictions = np.round(ann_model.predict(x_test[:100]))\n",
    "for i in range(len(predictions)):\n",
    "    print(df_test[\"text\"].values[i][:100],\"...\")\n",
    "    print(\"Pred: \", np.where(predictions[i]==1)[0], \"Real: \", y_test[i])"
   ]
  },
  {
   "source": [
    "-------------------------------------------------------------------\n",
    "RNN\n",
    "---"
   ],
   "cell_type": "markdown",
   "metadata": {}
  },
  {
   "cell_type": "code",
   "execution_count": null,
   "metadata": {},
   "outputs": [],
   "source": [
    "#import wget\n",
    "#url = \"http://nlp.stanford.edu/data/glove.6B.zip\"\n",
    "#path=\"./data/\"\n",
    "#filename = wget.download(url, out=path)"
   ]
  },
  {
   "cell_type": "code",
   "execution_count": null,
   "metadata": {},
   "outputs": [],
   "source": [
    "#import zipfile\n",
    "#with zipfile.ZipFile(filename, \"r\") as fzip:\n",
    "#    fzip.extractall(path)"
   ]
  },
  {
   "cell_type": "code",
   "execution_count": 17,
   "metadata": {},
   "outputs": [
    {
     "output_type": "stream",
     "name": "stdout",
     "text": [
      "Found 400000 word vectors.\n"
     ]
    }
   ],
   "source": [
    "embeddings_index = {}\n",
    "with open(\"./data/glove.6B.50d.txt\", encoding='utf8') as f:\n",
    "    for line in f:\n",
    "        word, vector = line.split(maxsplit=1)\n",
    "        vector = np.fromstring(vector, \"f\", sep=\" \")\n",
    "        embeddings_index[word] = vector\n",
    "\n",
    "print(\"Found %s word vectors.\" % len(embeddings_index))"
   ]
  },
  {
   "cell_type": "code",
   "execution_count": 18,
   "metadata": {},
   "outputs": [
    {
     "output_type": "stream",
     "name": "stdout",
     "text": [
      "Converted 4903 words (97 misses)\n"
     ]
    }
   ],
   "source": [
    "'''Összegyűjtjük a szótárunk szavaihoz tartozó szó vektorokat'''\n",
    "num_tokens = len(tfidf.vocabulary_) + 2\n",
    "embedding_dim = 50\n",
    "hits = 0\n",
    "misses = 0\n",
    "\n",
    "embedding_matrix = np.zeros((num_tokens, embedding_dim))\n",
    "for word, i in tfidf.vocabulary_.items():\n",
    "    embedding_vector = embeddings_index.get(word)\n",
    "    if embedding_vector is not None:\n",
    "        embedding_matrix[i] = embedding_vector\n",
    "        hits += 1\n",
    "    else:\n",
    "        misses += 1\n",
    "\n",
    "print(\"Converted %d words (%d misses)\" % (hits, misses))"
   ]
  },
  {
   "cell_type": "code",
   "execution_count": 19,
   "metadata": {},
   "outputs": [],
   "source": [
    "def get_word_indices(x_old):\n",
    "    x_new = []\n",
    "    for row in x_old:\n",
    "        e = enumerate(row)\n",
    "        for i in e:\n",
    "            result = []\n",
    "            for idx, value in e:\n",
    "                if value > 0.1:\n",
    "                    result.append(idx)\n",
    "            x_new.append(result)\n",
    "    return x_new"
   ]
  },
  {
   "cell_type": "code",
   "execution_count": 11,
   "metadata": {},
   "outputs": [],
   "source": [
    "'''A TF-IDF vektorból kiszedjük a 0.1-es érték feletti szavak indexét'''\n",
    "x_train_rnn = get_word_indices(x_train)\n",
    "x_val_rnn = get_word_indices(x_val)\n",
    "x_test_rnn = get_word_indices(x_test)"
   ]
  },
  {
   "cell_type": "code",
   "execution_count": 12,
   "metadata": {},
   "outputs": [],
   "source": [
    "maxlen = 64\n",
    "x_train_rnn = tf.keras.preprocessing.sequence.pad_sequences(x_train_rnn, maxlen=maxlen)\n",
    "x_val_rnn = tf.keras.preprocessing.sequence.pad_sequences(x_val_rnn, maxlen=maxlen)\n",
    "x_test_rnn = tf.keras.preprocessing.sequence.pad_sequences(x_test_rnn, maxlen=maxlen)"
   ]
  },
  {
   "cell_type": "code",
   "execution_count": 13,
   "metadata": {},
   "outputs": [
    {
     "output_type": "stream",
     "name": "stdout",
     "text": [
      "Model: \"sequential\"\n_________________________________________________________________\nLayer (type)                 Output Shape              Param #   \n=================================================================\nembedding (Embedding)        (None, 64, 50)            250100    \n_________________________________________________________________\nlstm (LSTM)                  (None, 64)                29440     \n_________________________________________________________________\ndense (Dense)                (None, 102)               6630      \n=================================================================\nTotal params: 286,170\nTrainable params: 286,170\nNon-trainable params: 0\n_________________________________________________________________\n"
     ]
    }
   ],
   "source": [
    "rnn_model = tf.keras.Sequential([\n",
    "    tf.keras.layers.Embedding(num_tokens, \n",
    "                              embedding_dim,                               \n",
    "                              embeddings_initializer=tf.keras.initializers.Constant(embedding_matrix),\n",
    "                              trainable=True,\n",
    "                              input_length=maxlen),\n",
    "    tf.keras.layers.LSTM(units=64, activation='tanh'),\n",
    "    tf.keras.layers.Dense(102, activation='softmax')\n",
    "])\n",
    "\n",
    "rnn_model.compile(optimizer='adam',\n",
    "              loss=\"sparse_categorical_crossentropy\",\n",
    "              metrics=['accuracy'])\n",
    "\n",
    "rnn_model.summary()"
   ]
  },
  {
   "cell_type": "code",
   "execution_count": 14,
   "metadata": {},
   "outputs": [
    {
     "output_type": "stream",
     "name": "stdout",
     "text": [
      "Epoch 1/5\n",
      "1913/1913 [==============================] - 70s 35ms/step - loss: 3.2227 - accuracy: 0.2614 - val_loss: 1.2363 - val_accuracy: 0.7088\n",
      "Epoch 2/5\n",
      "1913/1913 [==============================] - 68s 35ms/step - loss: 0.9900 - accuracy: 0.7668 - val_loss: 0.7785 - val_accuracy: 0.8110\n",
      "Epoch 3/5\n",
      "1913/1913 [==============================] - 75s 39ms/step - loss: 0.6198 - accuracy: 0.8484 - val_loss: 0.6777 - val_accuracy: 0.8300\n",
      "Epoch 4/5\n",
      "1913/1913 [==============================] - 83s 44ms/step - loss: 0.4691 - accuracy: 0.8842 - val_loss: 0.6533 - val_accuracy: 0.8363\n",
      "Epoch 5/5\n",
      "1913/1913 [==============================] - 65s 34ms/step - loss: 0.3614 - accuracy: 0.9087 - val_loss: 0.6499 - val_accuracy: 0.8383\n"
     ]
    }
   ],
   "source": [
    "h1 = rnn_model.fit(x_train_rnn, \n",
    "              y_train,\n",
    "              epochs=5,\n",
    "              batch_size=32,\n",
    "              validation_data=(x_val_rnn, y_val))"
   ]
  },
  {
   "cell_type": "code",
   "execution_count": 15,
   "metadata": {},
   "outputs": [
    {
     "output_type": "stream",
     "name": "stdout",
     "text": [
      "638/638 [==============================] - 7s 10ms/step - loss: 0.7834 - accuracy: 0.8106\n",
      "test loss, test acc: [0.7834381461143494, 0.8105882406234741]\n"
     ]
    }
   ],
   "source": [
    "results = rnn_model.evaluate(x_test_rnn, y_test, batch_size=32)\n",
    "print(\"test loss, test acc:\", results)"
   ]
  },
  {
   "cell_type": "code",
   "execution_count": null,
   "metadata": {
    "tags": [
     "outputPrepend"
    ]
   },
   "outputs": [],
   "source": [
    "predictions = np.round(rnn_model.predict(x_test_rnn[:100]))\n",
    "for i in range(len(predictions)):\n",
    "    print(df_test[\"text\"].values[i][:100],\"...\")\n",
    "    print(\"Pred: \", np.where(predictions[i]==1)[0], \"Real: \", y_test[i])"
   ]
  },
  {
   "cell_type": "code",
   "execution_count": null,
   "metadata": {},
   "outputs": [],
   "source": []
  }
 ]
}