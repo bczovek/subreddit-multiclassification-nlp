{
 "metadata": {
  "language_info": {
   "codemirror_mode": {
    "name": "ipython",
    "version": 3
   },
   "file_extension": ".py",
   "mimetype": "text/x-python",
   "name": "python",
   "nbconvert_exporter": "python",
   "pygments_lexer": "ipython3",
   "version": "3.9.1-final"
  },
  "orig_nbformat": 2,
  "kernelspec": {
   "name": "python391jvsc74a57bd0cb420b25547fda99a857a852fc4ef6c9d051c43278915c32b64b662fab4bab10",
   "display_name": "Python 3.9.1 64-bit"
  },
  "metadata": {
   "interpreter": {
    "hash": "cb420b25547fda99a857a852fc4ef6c9d051c43278915c32b64b662fab4bab10"
   }
  }
 },
 "nbformat": 4,
 "nbformat_minor": 2,
 "cells": [
  {
   "cell_type": "code",
   "execution_count": null,
   "metadata": {},
   "outputs": [],
   "source": [
    "import pandas as pd"
   ]
  },
  {
   "cell_type": "code",
   "execution_count": null,
   "metadata": {},
   "outputs": [],
   "source": [
    "df = pd.read_csv(\"./rspct.tsv\", sep='\\t')"
   ]
  },
  {
   "cell_type": "code",
   "execution_count": null,
   "metadata": {},
   "outputs": [],
   "source": [
    "from sklearn import preprocessing\n",
    "\n",
    "le = preprocessing.LabelEncoder()\n",
    "le.fit(df[\"subreddit\"])"
   ]
  },
  {
   "cell_type": "code",
   "execution_count": null,
   "metadata": {},
   "outputs": [],
   "source": [
    "classes = len(le.classes_)"
   ]
  },
  {
   "cell_type": "code",
   "execution_count": 6,
   "metadata": {},
   "outputs": [],
   "source": [
    "df[\"subreddit_id\"] = le.transform(df[\"subreddit\"])"
   ]
  },
  {
   "cell_type": "code",
   "execution_count": 7,
   "metadata": {},
   "outputs": [
    {
     "output_type": "execute_result",
     "data": {
      "text/plain": [
       "       id             subreddit  \\\n",
       "0  6d8knd  talesfromtechsupport   \n",
       "1  58mbft               teenmom   \n",
       "2  8f73s7                Harley   \n",
       "3  6ti6re          ringdoorbell   \n",
       "4  77sxto                 intel   \n",
       "\n",
       "                                               title  \\\n",
       "0             Remember your command line switches...   \n",
       "1                    So what was Matt \"addicted\" to?   \n",
       "2                                     No Club Colors   \n",
       "3        Not door bell, but floodlight mount height.   \n",
       "4  Worried about my 8700k small fft/data stress r...   \n",
       "\n",
       "                                            selftext  subreddit_id  \n",
       "0  Hi there,  <lb>The usual. Long time lerker, fi...           920  \n",
       "1  Did he ever say what his addiction was or is h...           931  \n",
       "2  Funny story. I went to college in Las Vegas. T...           161  \n",
       "3  I know this is a sub for the 'Ring Doorbell' b...           827  \n",
       "4  Prime95 (regardless of version) and OCCT both,...           669  "
      ],
      "text/html": "<div>\n<style scoped>\n    .dataframe tbody tr th:only-of-type {\n        vertical-align: middle;\n    }\n\n    .dataframe tbody tr th {\n        vertical-align: top;\n    }\n\n    .dataframe thead th {\n        text-align: right;\n    }\n</style>\n<table border=\"1\" class=\"dataframe\">\n  <thead>\n    <tr style=\"text-align: right;\">\n      <th></th>\n      <th>id</th>\n      <th>subreddit</th>\n      <th>title</th>\n      <th>selftext</th>\n      <th>subreddit_id</th>\n    </tr>\n  </thead>\n  <tbody>\n    <tr>\n      <th>0</th>\n      <td>6d8knd</td>\n      <td>talesfromtechsupport</td>\n      <td>Remember your command line switches...</td>\n      <td>Hi there,  &lt;lb&gt;The usual. Long time lerker, fi...</td>\n      <td>920</td>\n    </tr>\n    <tr>\n      <th>1</th>\n      <td>58mbft</td>\n      <td>teenmom</td>\n      <td>So what was Matt \"addicted\" to?</td>\n      <td>Did he ever say what his addiction was or is h...</td>\n      <td>931</td>\n    </tr>\n    <tr>\n      <th>2</th>\n      <td>8f73s7</td>\n      <td>Harley</td>\n      <td>No Club Colors</td>\n      <td>Funny story. I went to college in Las Vegas. T...</td>\n      <td>161</td>\n    </tr>\n    <tr>\n      <th>3</th>\n      <td>6ti6re</td>\n      <td>ringdoorbell</td>\n      <td>Not door bell, but floodlight mount height.</td>\n      <td>I know this is a sub for the 'Ring Doorbell' b...</td>\n      <td>827</td>\n    </tr>\n    <tr>\n      <th>4</th>\n      <td>77sxto</td>\n      <td>intel</td>\n      <td>Worried about my 8700k small fft/data stress r...</td>\n      <td>Prime95 (regardless of version) and OCCT both,...</td>\n      <td>669</td>\n    </tr>\n  </tbody>\n</table>\n</div>"
     },
     "metadata": {},
     "execution_count": 7
    }
   ],
   "source": [
    "df.head()"
   ]
  },
  {
   "cell_type": "code",
   "execution_count": 8,
   "metadata": {},
   "outputs": [],
   "source": [
    "df_trimmed = pd.DataFrame(columns=df.columns)"
   ]
  },
  {
   "cell_type": "code",
   "execution_count": 9,
   "metadata": {},
   "outputs": [],
   "source": [
    "for i in range(0,classes,10):\n",
    "    df_trimmed = df_trimmed.append(df.loc[df['subreddit_id'] == i], ignore_index=True)"
   ]
  },
  {
   "cell_type": "code",
   "execution_count": 12,
   "metadata": {},
   "outputs": [
    {
     "output_type": "execute_result",
     "data": {
      "text/plain": [
       "array([0, 10, 20, 30, 40, 50, 60, 70, 80, 90, 100, 110, 120, 130, 140,\n",
       "       150, 160, 170, 180, 190, 200, 210, 220, 230, 240, 250, 260, 270,\n",
       "       280, 290, 300, 310, 320, 330, 340, 350, 360, 370, 380, 390, 400,\n",
       "       410, 420, 430, 440, 450, 460, 470, 480, 490, 500, 510, 520, 530,\n",
       "       540, 550, 560, 570, 580, 590, 600, 610, 620, 630, 640, 650, 660,\n",
       "       670, 680, 690, 700, 710, 720, 730, 740, 750, 760, 770, 780, 790,\n",
       "       800, 810, 820, 830, 840, 850, 860, 870, 880, 890, 900, 910, 920,\n",
       "       930, 940, 950, 960, 970, 980, 990, 1000, 1010], dtype=object)"
      ]
     },
     "metadata": {},
     "execution_count": 12
    }
   ],
   "source": [
    "df_trimmed[\"subreddit_id\"].unique()"
   ]
  },
  {
   "cell_type": "code",
   "execution_count": 14,
   "metadata": {},
   "outputs": [],
   "source": [
    "le.fit(df_trimmed[\"subreddit\"])\n",
    "df_trimmed[\"subreddit_id\"] = le.transform(df_trimmed[\"subreddit\"])"
   ]
  },
  {
   "cell_type": "code",
   "execution_count": 16,
   "metadata": {},
   "outputs": [
    {
     "output_type": "execute_result",
     "data": {
      "text/plain": [
       "array([  0,   1,   2,   3,   4,   5,   6,   7,   8,   9,  10,  11,  12,\n",
       "        13,  14,  15,  16,  17,  18,  19,  20,  21,  22,  23,  24,  25,\n",
       "        26,  27,  28,  29,  30,  31,  32,  33,  34,  35,  36,  37,  38,\n",
       "        39,  40,  41,  42,  43,  44,  45,  46,  47,  48,  49,  50,  51,\n",
       "        52,  53,  54,  55,  56,  57,  58,  59,  60,  61,  62,  63,  64,\n",
       "        65,  66,  67,  68,  69,  70,  71,  72,  73,  74,  75,  76,  77,\n",
       "        78,  79,  80,  81,  82,  83,  84,  85,  86,  87,  88,  89,  90,\n",
       "        91,  92,  93,  94,  95,  96,  97,  98,  99, 100, 101])"
      ]
     },
     "metadata": {},
     "execution_count": 16
    }
   ],
   "source": [
    "df_trimmed[\"subreddit_id\"].unique()"
   ]
  },
  {
   "cell_type": "code",
   "execution_count": 18,
   "metadata": {},
   "outputs": [
    {
     "output_type": "execute_result",
     "data": {
      "text/plain": [
       "           id            subreddit  \\\n",
       "6584   7ethbd      CampHalfBloodRP   \n",
       "22230  8elf28                  MBA   \n",
       "16537  5qo55h                 HVAC   \n",
       "76318  4za93r               origin   \n",
       "56238  7pmosq                 dpdr   \n",
       "...       ...                  ...   \n",
       "2911   78qdlv  AmericanHorrorStory   \n",
       "5816   6sq5u2           BigBrother   \n",
       "6742   4xbrtn      CampHalfBloodRP   \n",
       "16526  6lizjh                 HVAC   \n",
       "62211  64044i             gigantic   \n",
       "\n",
       "                                                   title  \\\n",
       "6584                                           Sam Smith   \n",
       "22230                           Booth's GPA requirements   \n",
       "16537  [x-post r/DIY] Torn Flexible HVAC Ducting-- Ho...   \n",
       "76318                   Account Suspended?! So confused.   \n",
       "56238              Hit My Head From a Car Accident Today   \n",
       "...                                                  ...   \n",
       "2911         Am I the only one who wants to see Kai win?   \n",
       "5816   If Christmas gets nominated, what really happens?   \n",
       "6742                      Michael Holt - Son of Demeter.   \n",
       "16526                     Cost to Move HVAC to Basement?   \n",
       "62211                                      New hero idea   \n",
       "\n",
       "                                                selftext  subreddit_id  \n",
       "6584   name: Sam Smith<lb><lb><lb>Birthday: 1th Novem...             6  \n",
       "22230  Are there any current or recently graduated Bo...            22  \n",
       "16537  The flexible ducting that branches off from a ...            16  \n",
       "76318  So there's a couple confusing layers to this. ...            76  \n",
       "56238  Let me preface this with the fact that i am an...            56  \n",
       "...                                                  ...           ...  \n",
       "2911   I read a lot of the posts on this sub and see ...             2  \n",
       "5816   Christmas has not been eligible to compete in ...             5  \n",
       "6742   **Basic Information:**<lb><lb><lb>____________...             6  \n",
       "16526  I posted a few days ago about our HVAC system ...            16  \n",
       "62211  so, i've recently began to notice this game's ...            62  \n",
       "\n",
       "[102000 rows x 5 columns]"
      ],
      "text/html": "<div>\n<style scoped>\n    .dataframe tbody tr th:only-of-type {\n        vertical-align: middle;\n    }\n\n    .dataframe tbody tr th {\n        vertical-align: top;\n    }\n\n    .dataframe thead th {\n        text-align: right;\n    }\n</style>\n<table border=\"1\" class=\"dataframe\">\n  <thead>\n    <tr style=\"text-align: right;\">\n      <th></th>\n      <th>id</th>\n      <th>subreddit</th>\n      <th>title</th>\n      <th>selftext</th>\n      <th>subreddit_id</th>\n    </tr>\n  </thead>\n  <tbody>\n    <tr>\n      <th>6584</th>\n      <td>7ethbd</td>\n      <td>CampHalfBloodRP</td>\n      <td>Sam Smith</td>\n      <td>name: Sam Smith&lt;lb&gt;&lt;lb&gt;&lt;lb&gt;Birthday: 1th Novem...</td>\n      <td>6</td>\n    </tr>\n    <tr>\n      <th>22230</th>\n      <td>8elf28</td>\n      <td>MBA</td>\n      <td>Booth's GPA requirements</td>\n      <td>Are there any current or recently graduated Bo...</td>\n      <td>22</td>\n    </tr>\n    <tr>\n      <th>16537</th>\n      <td>5qo55h</td>\n      <td>HVAC</td>\n      <td>[x-post r/DIY] Torn Flexible HVAC Ducting-- Ho...</td>\n      <td>The flexible ducting that branches off from a ...</td>\n      <td>16</td>\n    </tr>\n    <tr>\n      <th>76318</th>\n      <td>4za93r</td>\n      <td>origin</td>\n      <td>Account Suspended?! So confused.</td>\n      <td>So there's a couple confusing layers to this. ...</td>\n      <td>76</td>\n    </tr>\n    <tr>\n      <th>56238</th>\n      <td>7pmosq</td>\n      <td>dpdr</td>\n      <td>Hit My Head From a Car Accident Today</td>\n      <td>Let me preface this with the fact that i am an...</td>\n      <td>56</td>\n    </tr>\n    <tr>\n      <th>...</th>\n      <td>...</td>\n      <td>...</td>\n      <td>...</td>\n      <td>...</td>\n      <td>...</td>\n    </tr>\n    <tr>\n      <th>2911</th>\n      <td>78qdlv</td>\n      <td>AmericanHorrorStory</td>\n      <td>Am I the only one who wants to see Kai win?</td>\n      <td>I read a lot of the posts on this sub and see ...</td>\n      <td>2</td>\n    </tr>\n    <tr>\n      <th>5816</th>\n      <td>6sq5u2</td>\n      <td>BigBrother</td>\n      <td>If Christmas gets nominated, what really happens?</td>\n      <td>Christmas has not been eligible to compete in ...</td>\n      <td>5</td>\n    </tr>\n    <tr>\n      <th>6742</th>\n      <td>4xbrtn</td>\n      <td>CampHalfBloodRP</td>\n      <td>Michael Holt - Son of Demeter.</td>\n      <td>**Basic Information:**&lt;lb&gt;&lt;lb&gt;&lt;lb&gt;____________...</td>\n      <td>6</td>\n    </tr>\n    <tr>\n      <th>16526</th>\n      <td>6lizjh</td>\n      <td>HVAC</td>\n      <td>Cost to Move HVAC to Basement?</td>\n      <td>I posted a few days ago about our HVAC system ...</td>\n      <td>16</td>\n    </tr>\n    <tr>\n      <th>62211</th>\n      <td>64044i</td>\n      <td>gigantic</td>\n      <td>New hero idea</td>\n      <td>so, i've recently began to notice this game's ...</td>\n      <td>62</td>\n    </tr>\n  </tbody>\n</table>\n<p>102000 rows × 5 columns</p>\n</div>"
     },
     "metadata": {},
     "execution_count": 18
    }
   ],
   "source": [
    "df_trimmed.sample(frac=1)"
   ]
  },
  {
   "cell_type": "code",
   "execution_count": 19,
   "metadata": {},
   "outputs": [],
   "source": [
    "df_trimmed.to_csv(\"rspct_small.csv\",index=False)"
   ]
  },
  {
   "cell_type": "code",
   "execution_count": null,
   "metadata": {},
   "outputs": [],
   "source": []
  }
 ]
}